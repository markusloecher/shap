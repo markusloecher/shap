{
  "nbformat": 4,
  "nbformat_minor": 0,
  "metadata": {
    "colab": {
      "name": "RandomForestSHAP.ipynb",
      "provenance": [],
      "collapsed_sections": []
    },
    "kernelspec": {
      "name": "python3",
      "display_name": "Python 3"
    }
  },
  "cells": [
    {
      "cell_type": "code",
      "metadata": {
        "id": "CPlsa3N-lFY9",
        "colab_type": "code",
        "colab": {}
      },
      "source": [
        "#only necessary if shap is not installed yet:\n",
        "\n",
        "!pip install shap"
      ],
      "execution_count": 0,
      "outputs": []
    },
    {
      "cell_type": "markdown",
      "metadata": {
        "id": "3T1dC65JXRiz",
        "colab_type": "text"
      },
      "source": [
        "This notebook computes the SHAP values for each tree from a random forest separately. A comparison with the aggregated values shows perfect agreement"
      ]
    },
    {
      "cell_type": "code",
      "metadata": {
        "id": "4N0l2S2DwBl0",
        "colab_type": "code",
        "colab": {}
      },
      "source": [
        "from sklearn import datasets \n",
        "#import pandas as pd\n",
        "import numpy as np\n",
        "np.random.seed(0)\n",
        "#import matplotlib.pyplot as plt\n",
        "import shap\n",
        "from sklearn.ensemble import RandomForestRegressor\n",
        "\n",
        "# Load the diabetes dataset\n",
        "diabetes_X, diabetes_y = datasets.load_diabetes(return_X_y=True)"
      ],
      "execution_count": 0,
      "outputs": []
    },
    {
      "cell_type": "code",
      "metadata": {
        "id": "lfz91YQBluj4",
        "colab_type": "code",
        "colab": {}
      },
      "source": [
        ""
      ],
      "execution_count": 0,
      "outputs": []
    },
    {
      "cell_type": "code",
      "metadata": {
        "id": "Z8Fl7P_ylaRb",
        "colab_type": "code",
        "colab": {
          "base_uri": "https://localhost:8080/",
          "height": 147
        },
        "outputId": "31b35b9a-9306-4b89-97f3-e6c8c2265f96"
      },
      "source": [
        "rf = RandomForestRegressor(max_depth=50, random_state=0, n_estimators=100,max_features=2)\n",
        "rf.fit(diabetes_X, diabetes_y) "
      ],
      "execution_count": 4,
      "outputs": [
        {
          "output_type": "execute_result",
          "data": {
            "text/plain": [
              "RandomForestRegressor(bootstrap=True, ccp_alpha=0.0, criterion='mse',\n",
              "                      max_depth=50, max_features=2, max_leaf_nodes=None,\n",
              "                      max_samples=None, min_impurity_decrease=0.0,\n",
              "                      min_impurity_split=None, min_samples_leaf=1,\n",
              "                      min_samples_split=2, min_weight_fraction_leaf=0.0,\n",
              "                      n_estimators=100, n_jobs=None, oob_score=False,\n",
              "                      random_state=0, verbose=0, warm_start=False)"
            ]
          },
          "metadata": {
            "tags": []
          },
          "execution_count": 4
        }
      ]
    },
    {
      "cell_type": "markdown",
      "metadata": {
        "id": "LnUkMcRlo0k5",
        "colab_type": "text"
      },
      "source": [
        "Get the SHAP values for each individual tree:"
      ]
    },
    {
      "cell_type": "code",
      "metadata": {
        "id": "U2Xzi4AVlsKn",
        "colab_type": "code",
        "colab": {}
      },
      "source": [
        "n,p = diabetes_X.shape\n",
        "k=0\n",
        "shap_values_IndTrees = np.zeros((n, p, rf.n_estimators))\n",
        "for tree in rf.estimators_:\n",
        "  tree_preds = tree.predict(diabetes_X)\n",
        "  explainer = shap.TreeExplainer(tree)\n",
        "  shap_values_IndTrees[:,:,k] = explainer.shap_values(diabetes_X)\n",
        "  k+=1"
      ],
      "execution_count": 0,
      "outputs": []
    },
    {
      "cell_type": "markdown",
      "metadata": {
        "id": "4IIoTZQto_cp",
        "colab_type": "text"
      },
      "source": [
        "Get the SHAP values for the forest:"
      ]
    },
    {
      "cell_type": "code",
      "metadata": {
        "id": "rY95ixiXmTuu",
        "colab_type": "code",
        "colab": {
          "base_uri": "https://localhost:8080/",
          "height": 36
        },
        "outputId": "8d23f456-1775-413d-88d0-15a703f8154e"
      },
      "source": [
        "shap_values = shap.TreeExplainer(rf).shap_values(diabetes_X)"
      ],
      "execution_count": 6,
      "outputs": [
        {
          "output_type": "stream",
          "text": [
            "Setting feature_perturbation = \"tree_path_dependent\" because no background data was given.\n"
          ],
          "name": "stderr"
        }
      ]
    },
    {
      "cell_type": "markdown",
      "metadata": {
        "id": "8-ZJkmizy0nG",
        "colab_type": "text"
      },
      "source": [
        "Compare"
      ]
    },
    {
      "cell_type": "code",
      "metadata": {
        "id": "x0yNT1LOmY4u",
        "colab_type": "code",
        "colab": {}
      },
      "source": [
        "shap_averages = np.mean(shap_values_IndTrees, axis=2)"
      ],
      "execution_count": 0,
      "outputs": []
    },
    {
      "cell_type": "code",
      "metadata": {
        "id": "cTZVL0BRtZJk",
        "colab_type": "code",
        "colab": {
          "base_uri": "https://localhost:8080/",
          "height": 36
        },
        "outputId": "07bc46f2-8464-49dc-f93b-a7652581ca03"
      },
      "source": [
        "shap_averages.shape"
      ],
      "execution_count": 8,
      "outputs": [
        {
          "output_type": "execute_result",
          "data": {
            "text/plain": [
              "(442, 10)"
            ]
          },
          "metadata": {
            "tags": []
          },
          "execution_count": 8
        }
      ]
    },
    {
      "cell_type": "code",
      "metadata": {
        "id": "lXkeKz2SyQeP",
        "colab_type": "code",
        "colab": {
          "base_uri": "https://localhost:8080/",
          "height": 296
        },
        "outputId": "26d81b09-953d-433e-99c0-02d774471cf2"
      },
      "source": [
        "shap_averages[0:5,0:9]"
      ],
      "execution_count": 9,
      "outputs": [
        {
          "output_type": "execute_result",
          "data": {
            "text/plain": [
              "array([[  2.44335946,  -3.00956769,  18.36632084,  -4.52236466,\n",
              "         -6.68071779,  -0.09489346,   2.41334275,   2.42628273,\n",
              "          9.55394142],\n",
              "       [ -4.72060762,   2.63365264, -15.83532914,  -4.47230068,\n",
              "         -2.49039149,  -2.38146477, -11.47550156,  -6.49119954,\n",
              "        -20.93121356],\n",
              "       [  3.47316568,  -3.15843022,  16.64062786, -11.95558607,\n",
              "         -5.64077853,   0.4712413 ,   7.07770315,   3.18009745,\n",
              "         -0.56640426],\n",
              "       [  3.12227647,   5.00219994,  -7.25117706,  -4.69872581,\n",
              "          4.55956987,   4.53644078,   8.28755635,  10.30790057,\n",
              "         21.48217336],\n",
              "       [ -2.49409811,   5.21729804, -20.13254819,   3.97585958,\n",
              "          1.91013783,  -0.09446261,  -0.1879328 ,   3.60192769,\n",
              "        -12.58971653]])"
            ]
          },
          "metadata": {
            "tags": []
          },
          "execution_count": 9
        }
      ]
    },
    {
      "cell_type": "code",
      "metadata": {
        "id": "yhzEEKg-wMnd",
        "colab_type": "code",
        "colab": {
          "base_uri": "https://localhost:8080/",
          "height": 36
        },
        "outputId": "2c102930-8bf3-459d-a825-f2b8cc368588"
      },
      "source": [
        "np.mean(np.abs(shap_values-shap_averages))"
      ],
      "execution_count": 10,
      "outputs": [
        {
          "output_type": "execute_result",
          "data": {
            "text/plain": [
              "2.5155671365092662e-14"
            ]
          },
          "metadata": {
            "tags": []
          },
          "execution_count": 10
        }
      ]
    },
    {
      "cell_type": "code",
      "metadata": {
        "id": "gnCd_j_Gyegs",
        "colab_type": "code",
        "colab": {
          "base_uri": "https://localhost:8080/",
          "height": 296
        },
        "outputId": "2a3d31b6-b3fd-4d6d-e159-3729502317b4"
      },
      "source": [
        "shap_values[0:5,0:9]"
      ],
      "execution_count": 11,
      "outputs": [
        {
          "output_type": "execute_result",
          "data": {
            "text/plain": [
              "array([[  2.44335946,  -3.00956769,  18.36632084,  -4.52236466,\n",
              "         -6.68071779,  -0.09489346,   2.41334275,   2.42628273,\n",
              "          9.55394142],\n",
              "       [ -4.72060762,   2.63365264, -15.83532914,  -4.47230068,\n",
              "         -2.49039149,  -2.38146477, -11.47550156,  -6.49119954,\n",
              "        -20.93121356],\n",
              "       [  3.47316568,  -3.15843022,  16.64062786, -11.95558607,\n",
              "         -5.64077853,   0.4712413 ,   7.07770315,   3.18009745,\n",
              "         -0.56640426],\n",
              "       [  3.12227647,   5.00219994,  -7.25117706,  -4.69872581,\n",
              "          4.55956987,   4.53644078,   8.28755635,  10.30790057,\n",
              "         21.48217336],\n",
              "       [ -2.49409811,   5.21729804, -20.13254819,   3.97585958,\n",
              "          1.91013783,  -0.09446261,  -0.1879328 ,   3.60192769,\n",
              "        -12.58971653]])"
            ]
          },
          "metadata": {
            "tags": []
          },
          "execution_count": 11
        }
      ]
    },
    {
      "cell_type": "markdown",
      "metadata": {
        "id": "TMa5pZulWVo-",
        "colab_type": "text"
      },
      "source": [
        "The following observation is puzzling: if I explicitly call `tree.predict()`, the `shap.TreeExplainer(tree)` prints its message \"*Setting feature_perturbation ...*\" for each iteration in the for loop, which \"proves\" to me that it is being executed each time. But not when the `tree.predict()` is commented out. In that case, the message is printed only once, and I am worried that `shap.TreeExplainer(tree)` is not really executed every time?"
      ]
    },
    {
      "cell_type": "code",
      "metadata": {
        "id": "gJEL787E4Wm4",
        "colab_type": "code",
        "colab": {
          "base_uri": "https://localhost:8080/",
          "height": 36
        },
        "outputId": "1f4606c8-f9a8-46f1-b24b-ec5c2f57535f"
      },
      "source": [
        "for tree in rf.estimators_:\n",
        "  #tree_preds = tree.predict(diabetes_X)\n",
        "  explainer = shap.TreeExplainer(tree)"
      ],
      "execution_count": 14,
      "outputs": [
        {
          "output_type": "stream",
          "text": [
            "Setting feature_perturbation = \"tree_path_dependent\" because no background data was given.\n"
          ],
          "name": "stderr"
        }
      ]
    }
  ]
}